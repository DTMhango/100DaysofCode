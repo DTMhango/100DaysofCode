{
 "cells": [
  {
   "attachments": {},
   "cell_type": "markdown",
   "metadata": {},
   "source": [
    "# 100 Days of Python - Day 4"
   ]
  },
  {
   "cell_type": "code",
   "execution_count": 18,
   "metadata": {},
   "outputs": [
    {
     "name": "stdout",
     "output_type": "stream",
     "text": [
      "Heads\n"
     ]
    }
   ],
   "source": [
    "# Coin Toss\n",
    "\n",
    "import random as rd\n",
    "\n",
    "coin = rd.randint(0,1)\n",
    "\n",
    "if coin == 0:\n",
    "    print(\"Heads\")\n",
    "else:\n",
    "    print(\"Tails\")\n",
    "\n",
    "\n",
    "# random_float = rd.random()*5-rd.random()*2\n",
    "# print(random_float)"
   ]
  },
  {
   "cell_type": "code",
   "execution_count": 39,
   "metadata": {},
   "outputs": [
    {
     "name": "stdout",
     "output_type": "stream",
     "text": [
      "[[1, 2, 3], ['a', 'b', 'c'], 'Daniel', 1998, True, 'Mukupa', 1997, False]\n",
      "['Dalaware', 'Pensslyvania', 'Maryland']\n",
      "['Dalaware', 'Pensslyvania', 'Maryland', 'California']\n",
      "['Dalaware', 'Pensslyvania', 'Maryland', 'California', 'Massachusets', 'Washington']\n",
      "b\n",
      "1998\n"
     ]
    }
   ],
   "source": [
    "# Lists: Python lists can contain different data types including other lists e.g.\n",
    "my_list = [[1 , 2, 3], ['a', 'b', 'c'], 'Daniel', 1998, True, 'Mukupa', 1997, False]\n",
    "print(my_list)\n",
    "\n",
    "# US States\n",
    "states_of_america = ['Dalaware', 'Pensslyvania', 'Maryland']\n",
    "print(states_of_america)\n",
    "\n",
    "# Use append to add 1 item to a list\n",
    "\n",
    "states_of_america.append('California')\n",
    "print(states_of_america)\n",
    "# Use extend to add multiple items to a list i.e., add a list to a list \n",
    "states_of_america.extend(['Massachusets', 'Washington'])\n",
    "\n",
    "\n",
    "print(states_of_america)\n",
    "\n",
    "# Nested lists - goes into the indexed number of the indexed list\n",
    "print(my_list[1][1])\n",
    "print(my_list[3])"
   ]
  },
  {
   "cell_type": "code",
   "execution_count": null,
   "metadata": {},
   "outputs": [],
   "source": [
    "# Banker Roulette\n",
    "\n",
    "import random as rd\n",
    "\n",
    "# Option 1\n",
    "name_string = input(\"Give me a list of names separated by ', ' \")\n",
    "# Split turns the sting into a list with items separated by the defined separator\n",
    "names = name_string.split(', ')\n",
    "\n",
    "# Set buyer to random person \n",
    "buyer = rd.randint(0, len(names)-1)\n",
    "\n",
    "print(f'{names[buyer]} is going to pay today!')\n",
    "\n",
    "# Option 2 - use choice method:\n",
    "\n",
    "names_string_2 = input('Give me a list of names seoarated by \", \" ')\n",
    "names_2 = names_string_2.split(', ')\n",
    "\n",
    "# Use the 'choice' method - this selects a random item from a list. \n",
    "buyer_2 = rd.choice(names_2)\n",
    "\n",
    "print(buyer_2 + \" is going to pay for the meal today!\")"
   ]
  },
  {
   "cell_type": "code",
   "execution_count": 40,
   "metadata": {},
   "outputs": [
    {
     "name": "stdout",
     "output_type": "stream",
     "text": [
      "['⬜️', '️⬜️', '️⬜️']\n",
      "['⬜️', '⬜️', '️⬜️']\n",
      "['⬜️️', '⬜️️', '⬜️️']\n",
      "['⬜️', '️⬜️', '️⬜️']\n",
      "['⬜️', 'X', '️⬜️']\n",
      "['⬜️️', '⬜️️', '⬜️️']\n"
     ]
    }
   ],
   "source": [
    "# Treasure Map\n",
    "\n",
    "# 🚨 Don't change the code below 👇\n",
    "row1 = [\"⬜️\",\"️⬜️\",\"️⬜️\"]\n",
    "row2 = [\"⬜️\",\"⬜️\",\"️⬜️\"]\n",
    "row3 = [\"⬜️️\",\"⬜️️\",\"⬜️️\"]\n",
    "map = [row1, row2, row3]\n",
    "print(f\"{row1}\\n{row2}\\n{row3}\")\n",
    "position = input(\"Where do you want to put the treasure? \")\n",
    "# 🚨 Don't change the code above 👆\n",
    "\n",
    "#Write your code below this row 👇\n",
    "\n",
    "\n",
    "if len(position) > 2:\n",
    "    print('Invalid coordinates')\n",
    "else:\n",
    "    x = int(position[0]) - 1\n",
    "    y = int(position[1]) - 1\n",
    "    map[y][x] = 'X'\n",
    "\n",
    "#Write your code above this row 👆\n",
    "\n",
    "# 🚨 Don't change the code below 👇\n",
    "print(f\"{row1}\\n{row2}\\n{row3}\")\n",
    "\n"
   ]
  },
  {
   "cell_type": "code",
   "execution_count": 46,
   "metadata": {},
   "outputs": [
    {
     "name": "stdout",
     "output_type": "stream",
     "text": [
      "You chose \n",
      "    _______\n",
      "---'   ____)____\n",
      "          ______)\n",
      "       __________)\n",
      "      (____)\n",
      "---.__(___)\n",
      "\n",
      "Computer chose \n",
      "    _______\n",
      "---'   ____)\n",
      "      (_____)\n",
      "      (_____)\n",
      "      (____)\n",
      "---.__(___)\n",
      "\n",
      "You Lose!\n"
     ]
    }
   ],
   "source": [
    "# Rock-Paper-Scissors Game\n",
    "\n",
    "rock = '''\n",
    "    _______\n",
    "---'   ____)\n",
    "      (_____)\n",
    "      (_____)\n",
    "      (____)\n",
    "---.__(___)\n",
    "'''\n",
    "\n",
    "paper = '''\n",
    "    _______\n",
    "---'   ____)____\n",
    "          ______)\n",
    "          _______)\n",
    "         _______)\n",
    "---.__________)\n",
    "'''\n",
    "\n",
    "scissors = '''\n",
    "    _______\n",
    "---'   ____)____\n",
    "          ______)\n",
    "       __________)\n",
    "      (____)\n",
    "---.__(___)\n",
    "'''\n",
    "\n",
    "#Write your code below this line 👇\n",
    "import random as rd\n",
    "\n",
    "choice = int(input('Welcome to the Rock-Paper-Scissors game. Type \"1\" for Rock, \"2\" for Paper and \"3\" for Scissors '))\n",
    "\n",
    "computer_choice = rd.randint(1,3)\n",
    "list_of_choices = [rock, paper, scissors]\n",
    "\n",
    "if choice > 3 or choice < 0:\n",
    "    print(\"You typed an Invalid Number - YOU LOSE!\")\n",
    "else:\n",
    "\n",
    "    print(f\"You chose {list_of_choices[choice-1]}\")\n",
    "    print(f\"Computer chose {list_of_choices[computer_choice-1]}\")\n",
    "\n",
    "    if choice == computer_choice:\n",
    "        print(\"It's a Draw\")\n",
    "    elif choice == 1 and computer_choice == 2:\n",
    "        print(\"You Lose!\")\n",
    "    elif choice == 1 and computer_choice == 3:\n",
    "        print(\"You Win!\")\n",
    "    elif choice == 2 and computer_choice == 1:\n",
    "        print('You Win!')\n",
    "    elif choice == 2 and computer_choice == 3:\n",
    "        print('You Lose!')\n",
    "    elif choice == 3 and computer_choice == 2:\n",
    "        print(\"You Win!\")\n",
    "    elif choice == 3 and computer_choice == 1:\n",
    "        print('You Lose!')\n",
    "\n",
    "# Remember that since R-P-S follows this order for winning, you can shorten this code to 4 lines by using '<' and '>' symbols."
   ]
  }
 ],
 "metadata": {
  "kernelspec": {
   "display_name": "Python 3",
   "language": "python",
   "name": "python3"
  },
  "language_info": {
   "codemirror_mode": {
    "name": "ipython",
    "version": 3
   },
   "file_extension": ".py",
   "mimetype": "text/x-python",
   "name": "python",
   "nbconvert_exporter": "python",
   "pygments_lexer": "ipython3",
   "version": "3.11.1"
  },
  "orig_nbformat": 4,
  "vscode": {
   "interpreter": {
    "hash": "7e5c0badbb2d24bbc3f94f0128230c51073dab69f6205fe8338cbe6039d785c3"
   }
  }
 },
 "nbformat": 4,
 "nbformat_minor": 2
}
