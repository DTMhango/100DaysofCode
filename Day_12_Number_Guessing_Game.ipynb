{
 "cells": [
  {
   "attachments": {},
   "cell_type": "markdown",
   "metadata": {},
   "source": [
    "# Day 12 - Scope and Number Guessing Game"
   ]
  },
  {
   "cell_type": "code",
   "execution_count": 2,
   "metadata": {},
   "outputs": [
    {
     "name": "stdout",
     "output_type": "stream",
     "text": [
      "1\n",
      "10\n"
     ]
    }
   ],
   "source": [
    "from Guess_the_number_art import logo\n",
    "from clear import clear\n",
    "import random as rd\n",
    "\n",
    "def checker():\n",
    "    number = rd.randint(1,100)\n",
    "    print(logo)\n",
    "    lives = 0\n",
    "    valid_input = False\n",
    "    while not valid_input:\n",
    "        print(\"Welcome to the Number Guessing Game!\\nI'm thinking of a number between 1 and 100.\")\n",
    "        difficulty = input(\"Choose a difficulty. Type 'easy', 'medium' or 'hard'\\n\").lower()\n",
    "        if difficulty == 'easy':\n",
    "            lives = 10\n",
    "            valid_input = True\n",
    "        elif difficulty == 'medium':\n",
    "            lives = 7\n",
    "            valid_input = True\n",
    "        elif difficulty == 'hard':\n",
    "            lives = 5\n",
    "            valid_input = True\n",
    "        else:\n",
    "            print(\"Invalid Input!\")\n",
    "            clear()\n",
    "    \n",
    "    while lives > 0:\n",
    "        player_guess = int(input(\"Make a guess: \"))        \n",
    "        if player_guess == number:\n",
    "            print(\"That's correct. You Win!.\")\n",
    "            if not continue_game():\n",
    "                 return\n",
    "        elif player_guess > number:\n",
    "            print(\"Too high.\\nGuess again.\")\n",
    "            lives -= 1\n",
    "        elif player_guess < number:\n",
    "            print(\"Too low.\\nGuess again.\")\n",
    "            lives -= 1\n",
    "        if lives == 0:\n",
    "            print(\"Game Over! You Lose!\")\n",
    "            if not continue_game():\n",
    "                 return\n",
    "\n",
    "def continue_game():\n",
    "    continue_playing = True\n",
    "    while continue_playing:\n",
    "        play_again = input(\"Would you like to play again? Type 'y' or 'n'.\").lower()\n",
    "        if play_again == 'y':\n",
    "            clear()\n",
    "            checker()\n",
    "        elif play_again == 'n':\n",
    "            clear()\n",
    "            print(\"Goodbye!\")\n",
    "            return False\n",
    "        else:\n",
    "            print(\"Invalid Input!\")\n",
    "\n",
    "checker()\n",
    "    "
   ]
  },
  {
   "cell_type": "code",
   "execution_count": null,
   "metadata": {},
   "outputs": [],
   "source": []
  }
 ],
 "metadata": {
  "kernelspec": {
   "display_name": "Python 3",
   "language": "python",
   "name": "python3"
  },
  "language_info": {
   "codemirror_mode": {
    "name": "ipython",
    "version": 3
   },
   "file_extension": ".py",
   "mimetype": "text/x-python",
   "name": "python",
   "nbconvert_exporter": "python",
   "pygments_lexer": "ipython3",
   "version": "3.11.1"
  },
  "orig_nbformat": 4
 },
 "nbformat": 4,
 "nbformat_minor": 2
}
