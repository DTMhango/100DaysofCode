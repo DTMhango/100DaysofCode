{
 "cells": [
  {
   "attachments": {},
   "cell_type": "markdown",
   "metadata": {},
   "source": [
    "# 100 Days of Python - Day 5"
   ]
  },
  {
   "cell_type": "code",
   "execution_count": 9,
   "metadata": {},
   "outputs": [
    {
     "name": "stdout",
     "output_type": "stream",
     "text": [
      "174.24\n"
     ]
    }
   ],
   "source": [
    "# For Loops: Calculating the average height from a list of heights \n",
    "\n",
    "student_heights = input(\"Input a list of student heights in cm separated by a space ' '. \").split()\n",
    "\n",
    "# Set variables for height and number of students to zero\n",
    "total_height = 0\n",
    "num_students = 0\n",
    "\n",
    "# Loop to count number of students \n",
    "for i in student_heights:\n",
    "    num_students += 1\n",
    "\n",
    "# Loop to convert list values to integers\n",
    "for j in range(0, num_students):\n",
    "    student_heights[j] = int(student_heights[j])\n",
    "    total_height += student_heights[j]\n",
    "\n",
    "average_height = round(total_height/num_students, 2)\n",
    "\n",
    "print(average_height)\n",
    "\n"
   ]
  },
  {
   "cell_type": "code",
   "execution_count": 10,
   "metadata": {},
   "outputs": [
    {
     "name": "stdout",
     "output_type": "stream",
     "text": [
      "The highest score is: 101\n"
     ]
    }
   ],
   "source": [
    "# Highest Score - HARD!\n",
    "\n",
    "student_scores = input(\"Enter a list of student scores separated by a ' ' (space)\").split()\n",
    "\n",
    "# convert the list of str into int\n",
    "for i in range(0, len(student_scores)):\n",
    "    student_scores[i] = int(student_scores[i])\n",
    "\n",
    "highest_score = 0\n",
    "\n",
    "# Loop through scores and set highest score to highest encountered score \n",
    "for score in student_scores:\n",
    "    if score > highest_score:\n",
    "        highest_score = score\n",
    "\n",
    "print(student_scores)\n",
    "print(f\"The highest score is: {highest_score}\")\n"
   ]
  },
  {
   "cell_type": "code",
   "execution_count": 20,
   "metadata": {},
   "outputs": [
    {
     "name": "stdout",
     "output_type": "stream",
     "text": [
      "5050\n",
      "2550\n",
      "2500\n"
     ]
    }
   ],
   "source": [
    "# Adding numbers in a range\n",
    "\n",
    "total = 0\n",
    "\n",
    "for number in range(0, 101):\n",
    "    total += number\n",
    "print(total)\n",
    "\n",
    "# Sum of even numbers:\n",
    "\n",
    "total = 0\n",
    "\n",
    "for even_number in range(0, 101, 2):\n",
    "    total += even_number\n",
    "print(total)\n",
    "\n",
    "# Sum of odd numbers:\n",
    "\n",
    "total = 0\n",
    "\n",
    "for odd_number in range(1, 101, 2):\n",
    "    total += odd_number\n",
    "print(total)"
   ]
  },
  {
   "cell_type": "code",
   "execution_count": null,
   "metadata": {},
   "outputs": [],
   "source": [
    "# FizzBuzz Game:\n",
    "\n",
    "for number in range(1, 101):\n",
    "    if number % 15 == 0:\n",
    "        print(\"FizzBuzz\")\n",
    "    elif number % 3 == 0:\n",
    "        print(\"Fizz\")\n",
    "    elif number % 5 == 0:\n",
    "        print(\"Buzz\")\n",
    "    else:\n",
    "        print(number)"
   ]
  },
  {
   "cell_type": "code",
   "execution_count": 50,
   "metadata": {},
   "outputs": [
    {
     "name": "stdout",
     "output_type": "stream",
     "text": [
      "Welcome to the PyPassword Generator!\n",
      "Your password is: Rv5rK70$&q#R+98dYh+ANt\n"
     ]
    }
   ],
   "source": [
    "# Password Generator | This was really hard \n",
    "\n",
    "import random\n",
    "\n",
    "letters = ['a', 'b', 'c', 'd', 'e', 'f', 'g', 'h', 'i', 'j', 'k', 'l', 'm', 'n', 'o', 'p', 'q', 'r', 's', 't', 'u', 'v', 'w', 'x', 'y', 'z', 'A', 'B', 'C', 'D', 'E', 'F', 'G', 'H', 'I', 'J', 'K', 'L', 'M', 'N', 'O', 'P', 'Q', 'R', 'S', 'T', 'U', 'V', 'W', 'X', 'Y', 'Z']\n",
    "numbers = ['0', '1', '2', '3', '4', '5', '6', '7', '8', '9']\n",
    "symbols = ['!', '#', '$', '%', '&', '(', ')', '*', '+']\n",
    "\n",
    "\n",
    "print(\"Welcome to the PyPassword Generator!\")\n",
    "nr_letters= int(input(\"How many letters would you like in your password?\\n\")) \n",
    "nr_symbols = int(input(f\"How many symbols would you like?\\n\"))\n",
    "nr_numbers = int(input(f\"How many numbers would you like?\\n\"))\n",
    "\n",
    "# Easy mode | Password is ordered:\n",
    "\n",
    "# rand_letters = ''\n",
    "# for i in range(0, nr_letters):\n",
    "#   rand_letters +=  random.choice(letters)\n",
    "\n",
    "# rand_symbols = ''\n",
    "# for i in range(0, nr_symbols):\n",
    "#   rand_symbols += random.choice(symbols)\n",
    "\n",
    "# rand_numbers = ''\n",
    "# for i in range(nr_numbers):\n",
    "#   rand_numbers += random.choice(numbers)\n",
    "\n",
    "# password_1 = rand_letters + rand_symbols + rand_numbers \n",
    "# print(password_1)\n",
    "\n",
    "\n",
    "# Hard mode | Password is fully randomised\n",
    "\n",
    "rand_letters = ''\n",
    "for i in range(0, nr_letters):\n",
    "  rand_letters +=  random.choice(letters)\n",
    "\n",
    "rand_symbols = ''\n",
    "for i in range(0, nr_symbols):\n",
    "  rand_symbols += random.choice(symbols)\n",
    "\n",
    "rand_numbers = ''\n",
    "for i in range(nr_numbers):\n",
    "  rand_numbers += random.choice(numbers)\n",
    "\n",
    "password_1 = rand_letters + rand_symbols + rand_numbers \n",
    "\n",
    "lst = []\n",
    "lst.extend(password_1)\n",
    "\n",
    "random.shuffle(lst)\n",
    "\n",
    "password = ''\n",
    "\n",
    "for char in lst:\n",
    "    password += char\n",
    "\n",
    "# print(password_1)\n",
    "\n",
    "print(f'Your password is: {password}')\n"
   ]
  },
  {
   "cell_type": "code",
   "execution_count": 44,
   "metadata": {},
   "outputs": [
    {
     "name": "stdout",
     "output_type": "stream",
     "text": [
      "['u', 'S', 'L', 'S', 'I', 'a', 'U', 'E', 'K', 'L', 'x', 'C', '+', '+', '+', ')', '+', '4', '1', '9', '0', '9', '2']\n"
     ]
    }
   ],
   "source": [
    "# Getting a list from a string i.e., splitting a string into individual letters\n",
    "\n",
    "lst = []\n",
    "lst.extend(password_1)\n",
    "print(lst)"
   ]
  }
 ],
 "metadata": {
  "kernelspec": {
   "display_name": "Python 3",
   "language": "python",
   "name": "python3"
  },
  "language_info": {
   "codemirror_mode": {
    "name": "ipython",
    "version": 3
   },
   "file_extension": ".py",
   "mimetype": "text/x-python",
   "name": "python",
   "nbconvert_exporter": "python",
   "pygments_lexer": "ipython3",
   "version": "3.11.1"
  },
  "orig_nbformat": 4,
  "vscode": {
   "interpreter": {
    "hash": "7e5c0badbb2d24bbc3f94f0128230c51073dab69f6205fe8338cbe6039d785c3"
   }
  }
 },
 "nbformat": 4,
 "nbformat_minor": 2
}
