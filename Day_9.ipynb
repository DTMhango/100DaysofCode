{
 "cells": [
  {
   "attachments": {},
   "cell_type": "markdown",
   "metadata": {},
   "source": [
    "# Day 9 - Blind Auction"
   ]
  },
  {
   "cell_type": "code",
   "execution_count": null,
   "metadata": {},
   "outputs": [],
   "source": [
    "# Blind Auction \n",
    "from clear import clear\n",
    "print(\"Welcome to the Blind Auction\\nEnter your name and bid amount when prompted\")\n",
    "\n",
    "cont_bidding = True\n",
    "bidder_list = []\n",
    "\n",
    "while cont_bidding:\n",
    "    bidder = input(\"Bidder name:\\n\")\n",
    "    bid_amount = float(input(\"How much is your bid?:\\n$ \"))\n",
    "    bidder_dict = {'name': bidder, 'bid': bid_amount}\n",
    "    bidder_list.append(bidder_dict)\n",
    "    clear()\n",
    "    result = input(\"Are there any other bidders? Type 'yes' or 'no'.\\n\").lower()\n",
    "    clear()\n",
    "    if result == 'no':\n",
    "        cont_bidding = False\n",
    "\n",
    "winner = max(bidder_list, key = lambda x: x['bid'])\n",
    "clear()\n",
    "print(f\"The winner is {winner['name']} with a bid of ${winner['bid']}\")\n",
    "print(type(winner))\n"
   ]
  },
  {
   "cell_type": "code",
   "execution_count": 12,
   "metadata": {},
   "outputs": [
    {
     "name": "stdout",
     "output_type": "stream",
     "text": [
      "{'First Item': 'I am the first item'}\n",
      "{}\n",
      "Name: Daniel Mhango\n",
      "Age: 24\n",
      "Job: Actuarial Analyst\n",
      "{'Name': 'Daniel Mhango', 'Age': 24, 'Job': 'Actuarial Analyst'}\n"
     ]
    }
   ],
   "source": [
    "# Dictionaries\n",
    "\n",
    "# You can define an empty dictionary \n",
    "empty_dict = {}\n",
    "# Adding items to a dictionary: Define key in square brackets and assign value after equal sign\n",
    "empty_dict['First Item'] = 'I am the first item'\n",
    "print(empty_dict)\n",
    "\n",
    "# Wipe an existing dictionary\n",
    "empty_dict = {}\n",
    "print(empty_dict)\n",
    "\n",
    "# Example dictionary\n",
    "my_first_dict = {\n",
    "    'Name': 'Daniel Mhango',\n",
    "    'Age': 25,\n",
    "    'Job': 'Actuarial Analyst'\n",
    "}\n",
    "# Changing values in a dictionary based on the key\n",
    "my_first_dict['Age'] = 24\n",
    "\n",
    "# Looping through dictionaries:\n",
    "\n",
    "for key in my_first_dict:\n",
    "    # print(key)\n",
    "    print(f'{key}: {my_first_dict[key]}')\n"
   ]
  },
  {
   "cell_type": "code",
   "execution_count": 22,
   "metadata": {},
   "outputs": [
    {
     "name": "stdout",
     "output_type": "stream",
     "text": [
      "Welcome to the Blind Auction\n",
      "Enter your name and bid amount when prompted\n",
      "Mukupa\n",
      "The winner is Mukupa with a bid of $600.0\n"
     ]
    }
   ],
   "source": [
    "# Blind Auction alternative\n",
    "from clear import clear\n",
    "print(\"Welcome to the Blind Auction\\nEnter your name and bid amount when prompted\")\n",
    "\n",
    "cont_bidding = True\n",
    "bidder_dict = {}\n",
    "\n",
    "while cont_bidding:\n",
    "    bidder = input(\"Bidder name:\\n\")\n",
    "    bid_amount = float(input(\"How much is your bid?:\\n$ \"))\n",
    "    bidder_dict[bidder] = bid_amount\n",
    "    clear()\n",
    "    result = input(\"Are there any other bidders? Type 'yes' or 'no'.\\n\").lower()\n",
    "    clear()\n",
    "    if result == 'no':\n",
    "        cont_bidding = False\n",
    "\n",
    "winner = max(bidder_dict, key = bidder_dict.get)\n",
    "print(winner)\n",
    "clear()\n",
    "print(f\"The winner is {winner} with a bid of ${bidder_dict[winner]}\")"
   ]
  }
 ],
 "metadata": {
  "kernelspec": {
   "display_name": "Python 3",
   "language": "python",
   "name": "python3"
  },
  "language_info": {
   "codemirror_mode": {
    "name": "ipython",
    "version": 3
   },
   "file_extension": ".py",
   "mimetype": "text/x-python",
   "name": "python",
   "nbconvert_exporter": "python",
   "pygments_lexer": "ipython3",
   "version": "3.11.1"
  },
  "orig_nbformat": 4
 },
 "nbformat": 4,
 "nbformat_minor": 2
}
