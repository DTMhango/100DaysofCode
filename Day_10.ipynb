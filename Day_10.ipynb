{
 "cells": [
  {
   "attachments": {},
   "cell_type": "markdown",
   "metadata": {},
   "source": [
    "# Day 10 - Functions With Outputs"
   ]
  },
  {
   "cell_type": "code",
   "execution_count": 15,
   "metadata": {},
   "outputs": [
    {
     "name": "stdout",
     "output_type": "stream",
     "text": [
      "Daniel Mhango\n"
     ]
    }
   ],
   "source": [
    "def format_name(f_name, l_name):\n",
    "    formated_f_name = f_name.title()\n",
    "    formated_l_name = l_name.title()\n",
    "    return f'{formated_f_name} {formated_l_name}'\n",
    "\n",
    "print(format_name('dAnIeL', 'MHANGO'))"
   ]
  },
  {
   "cell_type": "code",
   "execution_count": null,
   "metadata": {},
   "outputs": [],
   "source": [
    "def is_leap(year):\n",
    "  if year % 4 == 0:\n",
    "    if year % 100 == 0:\n",
    "      if year % 400 == 0:\n",
    "        return True\n",
    "      else:\n",
    "        return False\n",
    "    else:\n",
    "      return True\n",
    "  else:\n",
    "    return False\n",
    "\n",
    "def days_in_month(year, month):\n",
    "  if month > 12 or month < 1:\n",
    "    return 'Invalid month'\n",
    "  month_days = [31, 28, 31, 30, 31, 30, 31, 31, 30, 31, 30, 31]\n",
    "  if is_leap(year):\n",
    "      month_days[1] = 29\n",
    "  return month_days[month -1]\n",
    "\n",
    "year = int(input(\"Enter a year: \"))\n",
    "month = int(input(\"Enter a month: \"))\n",
    "days = days_in_month(year, month)\n",
    "print(days)\n",
    "\n"
   ]
  },
  {
   "cell_type": "code",
   "execution_count": null,
   "metadata": {},
   "outputs": [],
   "source": [
    "from Calculator_Art import logo\n",
    "\n",
    "def add(n1, n2):\n",
    "    \"\"\"Returns the sum of two numbers 'n1' and 'n2'\"\"\"\n",
    "    return n1 + n2\n",
    "\n",
    "def subtract(n1, n2):\n",
    "    \"\"\"Returns the difference between two numbers 'n1' and 'n2'\"\"\"\n",
    "    return n1 - n2\n",
    "\n",
    "def multiply(n1, n2):\n",
    "    \"\"\"Returns the product of two numbers 'n1' and 'n2'\"\"\"\n",
    "    return n1 * n2\n",
    "\n",
    "def divide(n1, n2):\n",
    "    \"\"\"Returns the quotient of two numbers 'n1' and 'n2'\"\"\"\n",
    "    return n1 / n2\n",
    "\n",
    "operations = {\n",
    "    '+': add,\n",
    "    '-': subtract,\n",
    "    '*': multiply,\n",
    "    '/': divide,\n",
    "}\n",
    "\n",
    "def calculator():\n",
    "    print(logo)\n",
    "    num1 = float(input(\"First number:\\n\"))\n",
    "    for symbol in operations:\n",
    "        print(symbol)\n",
    "    should_continue = True\n",
    "    while should_continue:\n",
    "        operation_symbol_1 = input(\"Pick an operation from the line above: \")\n",
    "        num2 = float(input(\"Next number\\n\"))\n",
    "        calculation_function = operations[operation_symbol_1]\n",
    "        answer = calculation_function(num1, num2)\n",
    "        print(f\"{num1} {operation_symbol_1} {num2} = {answer}\")\n",
    "\n",
    "        if input(f\"Type 'y' to continue calculating with {answer} or type 'n' to start a new calculation: \") == 'y':\n",
    "            num1 = answer\n",
    "        else:\n",
    "            should_continue = False\n",
    "            calculator()\n",
    "\n",
    "calculator()\n",
    "\n",
    "# for symbol in operations:\n",
    "#     if symbol == operation_symbol:\n",
    "#         answer = operations[operation_symbol](num1, num2)\n",
    "\n",
    "#print(f\"{num1} {operation_symbol} {num2} = {answer}\")\n",
    "\n",
    "# operation_symbol_2 = input(\"Pick another operation: \")\n",
    "# num3 = float(input(\"What's the next number?:\\n\"))\n",
    "# calculation_function = operations[operation_symbol_2]\n",
    "# second_answer = calculation_function(answer, num3)\n",
    "# print(f\"{num1} {operation_symbol_1} {num2} {operation_symbol_2} {num3} = {second_answer}\")"
   ]
  }
 ],
 "metadata": {
  "kernelspec": {
   "display_name": "Python 3",
   "language": "python",
   "name": "python3"
  },
  "language_info": {
   "codemirror_mode": {
    "name": "ipython",
    "version": 3
   },
   "file_extension": ".py",
   "mimetype": "text/x-python",
   "name": "python",
   "nbconvert_exporter": "python",
   "pygments_lexer": "ipython3",
   "version": "3.11.1"
  },
  "orig_nbformat": 4
 },
 "nbformat": 4,
 "nbformat_minor": 2
}
