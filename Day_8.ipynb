{
 "cells": [
  {
   "attachments": {},
   "cell_type": "markdown",
   "metadata": {},
   "source": [
    "# Day 8 - Functions and Inputs"
   ]
  },
  {
   "cell_type": "code",
   "execution_count": 2,
   "metadata": {},
   "outputs": [
    {
     "name": "stdout",
     "output_type": "stream",
     "text": [
      "You'll need 34 cans of paint.\n"
     ]
    }
   ],
   "source": [
    "import math\n",
    "\n",
    "def paint_calc(height, width, cover=5):\n",
    "    number_of_cans = math.ceil((height*width)/coverage)\n",
    "    print(f\"You'll need {number_of_cans} cans of paint.\")\n",
    "\n",
    "test_h = int(input(\"Height of wall: \"))\n",
    "test_w = int(input(\"Width of wall: \"))\n",
    "coverage = 5\n",
    "paint_calc(height=test_h, width=test_w, cover=coverage)\n"
   ]
  },
  {
   "cell_type": "code",
   "execution_count": 1,
   "metadata": {},
   "outputs": [
    {
     "name": "stdout",
     "output_type": "stream",
     "text": [
      "It's not a prime number.\n"
     ]
    }
   ],
   "source": [
    "import math\n",
    "# define function: prime checker\n",
    "def prime_checker(number):\n",
    "    if all(number%i != 0 for i in range(2, int(math.ceil(math.sqrt(n))))):\n",
    "        print(\"It's a prime number.\")\n",
    "    else:\n",
    "        print(\"It's not a prime number.\")\n",
    "\n",
    "n = int(input(\"Check this number: \"))\n",
    "prime_checker(number=n)\n"
   ]
  },
  {
   "cell_type": "code",
   "execution_count": 59,
   "metadata": {},
   "outputs": [
    {
     "data": {
      "text/plain": [
       "9999991"
      ]
     },
     "execution_count": 59,
     "metadata": {},
     "output_type": "execute_result"
    }
   ],
   "source": [
    "# Max prime number in a range - two step process\n",
    "\n",
    "# Step 1: Define a funtion to check if a number is prime\n",
    "def is_prime(number):\n",
    "    if number <= 1:\n",
    "        return False\n",
    "    if all(number%i != 0 for i in range(2, int(math.ceil(math.sqrt(number))))): # can also use int(number**0.5)+1 for the range\n",
    "        return True\n",
    "    return False    \n",
    "# Step 2: Define a function to loop through the prime numbers in the range using the prime checker function from step 1 to determine which numbers are primes and then return the largest of these\n",
    "def largest_prime(end):\n",
    "    largest_prime = None\n",
    "    for number in range(1, end+1):\n",
    "        if is_prime(number):\n",
    "            if largest_prime is None or number > largest_prime:\n",
    "                largest_prime = number\n",
    "    return largest_prime           \n",
    "\n",
    "n = int(input(\"Max number in range: \"))\n",
    "largest_prime(n)\n"
   ]
  },
  {
   "cell_type": "code",
   "execution_count": 61,
   "metadata": {},
   "outputs": [
    {
     "data": {
      "text/plain": [
       "99991"
      ]
     },
     "execution_count": 61,
     "metadata": {},
     "output_type": "execute_result"
    }
   ],
   "source": [
    "# Alternative approach using the max funtion\n",
    "# Define function to determineif a number is prime\n",
    "def prime(number):\n",
    "    if number <= 1:\n",
    "        return False\n",
    "    if all(number%i != 0 for i in range(2,int(number**0.5)+1)):\n",
    "        return True\n",
    "    return False\n",
    "# define function to create a list of primes from a range of numbers and return the largest prime\n",
    "def biggest_prime(start, end):\n",
    "    primes = [number for number in range(start, end+1) if prime(number)]\n",
    "    return max(primes) if primes else None\n",
    "    \n",
    "\n",
    "biggest_prime(0, 100000)"
   ]
  },
  {
   "cell_type": "code",
   "execution_count": null,
   "metadata": {},
   "outputs": [],
   "source": [
    "# Ceasar Cipher\n",
    "alphabet = ['a', 'b', 'c', 'd', 'e', 'f', 'g', 'h', 'i', 'j', 'k', 'l', 'm', 'n', 'o', 'p', 'q', 'r', 's', 't', 'u', 'v', 'w', 'x', 'y', 'z']\n",
    "\n",
    "direction = input(\"Type 'encode' to encrypt, type 'decode' to decrypt:\\n\")\n",
    "text = input(\"Type your message:\\n\").lower()\n",
    "shift = int(input(\"Type the shift number:\\n\"))\n",
    "\n",
    "# Define encrypt function\n",
    "def encrypt(text, shift):\n",
    "    txt_list = list(text)\n",
    "    print(txt_list)\n",
    "    txt_list_2 = []\n",
    "    encoded_message = ''\n",
    "    for letter in text:\n",
    "        if letter == \" \":\n",
    "            letter_num = ' '\n",
    "            txt_list_2.append(letter_num)\n",
    "        else:\n",
    "            letter_num = alphabet.index(letter)\n",
    "            txt_list_2.append(alphabet[(letter_num + shift)%len(alphabet)])\n",
    "    for char in txt_list_2:\n",
    "                encoded_message += char\n",
    "    print(encoded_message)\n",
    "\n",
    "def decrypt(text, shift):\n",
    "    txt_list = list(text)\n",
    "    # print(txt_list)\n",
    "    txt_list_2 = []\n",
    "    decoded_message = ''\n",
    "    for letter in text:\n",
    "        if letter == \" \":\n",
    "            letter_num = ' '\n",
    "            txt_list_2.append(letter_num)\n",
    "        else:\n",
    "            letter_num = alphabet.index(letter)\n",
    "            txt_list_2.append(alphabet[(letter_num - shift)%len(alphabet)])\n",
    "    for char in txt_list_2:\n",
    "                decoded_message += char\n",
    "    print(decoded_message)\n",
    "      \n",
    "if direction == 'encode':\n",
    "      encrypt(text = text, shift = shift)\n",
    "elif direction == 'decode':\n",
    "      decrypt(text = text, shift = shift)\n",
    "\n"
   ]
  }
 ],
 "metadata": {
  "kernelspec": {
   "display_name": "Python 3",
   "language": "python",
   "name": "python3"
  },
  "language_info": {
   "codemirror_mode": {
    "name": "ipython",
    "version": 3
   },
   "file_extension": ".py",
   "mimetype": "text/x-python",
   "name": "python",
   "nbconvert_exporter": "python",
   "pygments_lexer": "ipython3",
   "version": "3.11.1"
  },
  "orig_nbformat": 4
 },
 "nbformat": 4,
 "nbformat_minor": 2
}
