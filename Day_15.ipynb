{
 "cells": [
  {
   "attachments": {},
   "cell_type": "markdown",
   "metadata": {},
   "source": [
    "# Day 15 - Coffee Machine"
   ]
  },
  {
   "cell_type": "code",
   "execution_count": 3,
   "metadata": {},
   "outputs": [
    {
     "name": "stdout",
     "output_type": "stream",
     "text": [
      "water\n",
      "milk\n",
      "coffee\n"
     ]
    }
   ],
   "source": [
    "from clear import clear\n",
    "# Define ingredients dictionary - money is cumulated as drinks are made, hence 0 an onset\n",
    "ingredients = {\n",
    "    'water': 3000,\n",
    "    'milk': 500,\n",
    "    'coffee': 500,\n",
    "    'money': 0\n",
    "}\n",
    "# Define the menu dictionary - components needed fro ingredients for each drink\n",
    "menu = {\n",
    "    'latte': {'water': 225, 'milk': 50, 'coffee': 20, 'price': 2.5,},\n",
    "    'espresso': {'water': 200, 'milk': 75, 'coffee': 30, 'price': 2.00,},\n",
    "    'cappuccino': {'water': 200, 'milk': 75, 'coffee': 30, 'price': 3.00,},\n",
    "}\n",
    "\n",
    "# Get report of current status of ingredients and money in coffee machine\n",
    "def get_report():\n",
    "    print(f\"Water: {ingredients['water']};\\nMilk {ingredients['milk']};\\nCoffee: {ingredients['coffee']};\\nMoney: ${ingredients['money']}\")\n",
    "\n",
    "# Check if resources for the user requested drink are sufficient\n",
    "def check_resources(drink):\n",
    "    \"\"\"Checks the available resources in the coffee\"\"\"\n",
    "    for ingredient in menu[drink]:\n",
    "        if ingredient != 'price':\n",
    "            if ingredients[ingredient] < menu[drink][ingredient]:\n",
    "                print(f\"Sorry, there is not enough {ingredient}.\")\n",
    "                return False\n",
    "    return True\n",
    "\n",
    "# Process the amount paid by the user and return change if necessary\n",
    "def process_coins(drink):\n",
    "    \"\"\"Processes the user's payment and returns change when necessary if payment is sufficient for selected drink \"\"\"\n",
    "    cost = menu[drink]['price']\n",
    "    print(f\"The cost of the drink is ${cost}. Please insert coins: \")\n",
    "    quarters = int(input(\"How many Quarters?: \")) * 0.25\n",
    "    dimes = int(input(\"How many Dimes?: \")) * 0.1\n",
    "    nickels = int(input(\"How many Nickels?: \")) * 0.05\n",
    "    pennies = int(input(\"How many Pennies?: \")) * 0.01\n",
    "    total_paid = quarters + nickels + dimes + pennies\n",
    "    if total_paid < cost:\n",
    "        print(\"Sorry, that's not enough money. Please take back your coins.\")\n",
    "        return False\n",
    "    else:\n",
    "        change = round(total_paid - cost, 2)\n",
    "        print(f\"Here is your change: ${change}\")\n",
    "        ingredients['money'] += cost\n",
    "        return True\n",
    "\n",
    "# Make the drink and decrease the ingredients accordingly\n",
    "def make_drink(drink):\n",
    "    \"\"\"Makes the drink and decreases the quantity of available ingredients\"\"\"\n",
    "    for ingredient in menu[drink]:\n",
    "        if ingredient != 'price':\n",
    "            ingredients[ingredient] -= menu[drink][ingredient]\n",
    "    print(f\"Here is your {drink}. Enjoy!\")\n",
    "\n",
    "def coffee_machine():\n",
    "    user_request = input(\"What would you like?\\n\").lower()\n",
    "    if user_request == 'off':\n",
    "        return\n",
    "    elif user_request == 'report':\n",
    "        get_report()\n",
    "        coffee_machine()\n",
    "    elif user_request in ['latte', 'espresso', 'cappuccino']:\n",
    "        if check_resources(user_request):\n",
    "            if process_coins(user_request):\n",
    "                make_drink(user_request)\n",
    "                coffee_machine()\n",
    "    elif user_request not in ['latte', 'espresso', 'cappuccino']:\n",
    "        print(\"Sorry, invalid request. Please choose: 'Latte', 'Espresso' or ' Cappuccino'.\")\n",
    "        coffee_machine()\n",
    "\n",
    "coffee_machine()\n"
   ]
  }
 ],
 "metadata": {
  "kernelspec": {
   "display_name": "Python 3",
   "language": "python",
   "name": "python3"
  },
  "language_info": {
   "codemirror_mode": {
    "name": "ipython",
    "version": 3
   },
   "file_extension": ".py",
   "mimetype": "text/x-python",
   "name": "python",
   "nbconvert_exporter": "python",
   "pygments_lexer": "ipython3",
   "version": "3.11.1"
  },
  "orig_nbformat": 4
 },
 "nbformat": 4,
 "nbformat_minor": 2
}
